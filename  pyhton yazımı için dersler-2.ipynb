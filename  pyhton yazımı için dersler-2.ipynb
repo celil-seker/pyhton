{
 "cells": [
  {
   "cell_type": "markdown",
   "metadata": {},
   "source": [
    "# while Döngüsü"
   ]
  },
  {
   "cell_type": "code",
   "execution_count": null,
   "metadata": {},
   "outputs": [],
   "source": [
    "a = 1\n",
    "while a == 1: "
   ]
  },
  {
   "cell_type": "markdown",
   "metadata": {},
   "source": [
    "Buradaaadlıbirdeğişkenoluşturduk.Budeğişkenindeğeri1.Birsonrakisatırdaisewhile a == 1: gibibirifadeyazdık.Enbaştadasöylediğimizgibiwhilekelimesi,‘...iken,olduğu sürece’gibianlamlartaşıyor.Pythonprogramlamadilindekianlamıdabunaoldukçayakındır. Buradawhile a == 1ifadesiprogramımızaşöylebiranlamkatıyor: adeğişkeninindeğeri1olduğusürece... Gördüğünüzgibicümlemizhenüzeksik. Yanibellikibununbirdedevamıolacak. Ayrıca whileifadesininsonundaki:işaretindenanladığımızgibi,bundansonrageleceksatırgirintili yazılacak.Devamedelim"
   ]
  },
  {
   "cell_type": "code",
   "execution_count": null,
   "metadata": {},
   "outputs": [],
   "source": [
    "a = 1\n",
    "while a == 1: print(\"bilgisayar çıldırdı!\")"
   ]
  },
  {
   "cell_type": "markdown",
   "metadata": {},
   "source": [
    "BuradaPython’aşuemrivermişolduk: adeğişkeninindeğeri1olduğusürece,ekrana‘bilgisayarçıldırdı!’yazısınıdök\n",
    "BuprogramıçalıştırdığımızdaPythonverdiğimizemresadakatleuyacakveadeğişkeninin değeri 1 olduğu müddetçe de bilgisayarımızın ekranına ‘bilgisayar çıldırdı!’ yazısını dökecektir.Programımızıniçindeadeğişkeninindeğeri1olduğuvebudeğişkenindeğerini değiştirecekherhangibirşeybulunmadığıiçinPythonhiçsıkılmadanekrana‘bilgisayar çıldırdı!’ yazısınıbasmayadevamedecektir. Eğersizdurdurmazsanızbudurumsonsuza kadardevamedebilir. BuçılgınlığabirsonvermekiçinklavyenizdeCtrl+C veyaCtrl+Z tuşlarınabasarakprogramıdurmayazorlayabilirsiniz. Buradaprogramımızısonsuzbirdöngüyesokmuşolduk(inﬁniteloop). Esasındasonsuz döngülergenelliklebirprogramhatasınaişareteder. Yaniçoğudurumdaprogramcının arzuettiğişeybudeğildir.Oyüzdendoğruyaklaşım,döngüyesoktuğumuzprogramlarımızı durduracakbirölçütbelirlemektir. Yaniöylebirkodyazmalıyızki,adeğişkeninin1 olan değeribirnoktadansonraartık1olmasınveböyleceonoktayaulaşıldığındaprogramımız dursun.KullanıcınınCtrl+Ctuşlarınabasarakprogramıdurdurmakzorundakalmasıpekhoş olmuyor.Gelinistersenizbusoyutifadeleribirazsomutlaştıralım. "
   ]
  },
  {
   "cell_type": "code",
   "execution_count": null,
   "metadata": {},
   "outputs": [],
   "source": [
    "a = 1\n",
    "while a < 10: "
   ]
  },
  {
   "cell_type": "markdown",
   "metadata": {},
   "source": [
    "whileileverdiğimizilkörnektewhile a == 1gibibirifadekullanmıştık.Buifade; a‘nındeğeri1olduğumüddetçe... gibibiranlamageliyordu. while a < 10ifadesiise; a‘nındeğeri10‘danküçükolduğumüddetçe... anlamınagelir.İşteburadaprogramımızınsonsuzdöngüyegirmesiniengelleyecekbirölçüt koymuşolduk.Bunagöre,adeğişkenininşimdikideğeri1‘dir.Biz,a‘nındeğeri10‘danküçük olduğumüddetçebirişlemyapacağız.Devamedelim: "
   ]
  },
  {
   "cell_type": "code",
   "execution_count": null,
   "metadata": {},
   "outputs": [],
   "source": [
    "a = 1\n",
    "while a < 10: print(\"bilgisayar yine çıldırdı!\") "
   ]
  },
  {
   "cell_type": "code",
   "execution_count": null,
   "metadata": {},
   "outputs": [],
   "source": [
    "a = 1\n",
    "while a < 10: a += 1 print(\"bilgisayar yine çıldırdı!\")"
   ]
  },
  {
   "cell_type": "code",
   "execution_count": null,
   "metadata": {},
   "outputs": [],
   "source": [
    "a = 1\n",
    "while a < 10: a += 1 print(a) "
   ]
  },
  {
   "cell_type": "code",
   "execution_count": null,
   "metadata": {},
   "outputs": [],
   "source": [
    "while True: \n",
    "    soru = input(\"Yapmak istediğiniz işlemin numarasını girin (Çıkmak için q): \")\n",
    "if soru == \"q\": print(\"çıkılıyor...\") \n",
    "    break "
   ]
  },
  {
   "cell_type": "code",
   "execution_count": null,
   "metadata": {},
   "outputs": [],
   "source": [
    "giriş = \"\"\" (1) topla (2) çıkar (3) çarp (4) böl (5) karesini hesapla (6) karekök hesapla \"\"\"\n",
    "print(giriş)\n",
    "while True: soru = input(\"Yapmak istediğiniz işlemin numarasını girin (Çıkmak için q): \")\n",
    "if soru == \"q\": print(\"çıkılıyor...\") break\n",
    "elif soru == \"1\": sayı1 = int(input(\"Toplama işlemi için ilk sayıyı girin: \")) sayı2 = int(input(\"Toplama işlemi için ikinci sayıyı girin: \")) print(sayı1, \"+\", sayı2, \"=\", sayı1 + sayı2)\n",
    "elif soru == \"2\": sayı3 = int(input(\"Çıkarma işlemi için ilk sayıyı girin: \")) sayı4 = int(input(\"Çıkarma işlemi için ikinci sayıyı girin: \")) \n",
    "   print(sayı3, \"-\", sayı4, \"=\", sayı3 - sayı4)\n",
    "elif soru == \"3\": sayı5 = int(input(\"Çarpma işlemi için ilk sayıyı girin: \")) sayı6 = int(input(\"Çarpma işlemi için ikinci sayıyı girin: \")) print(sayı5, \"x\", sayı6, \"=\", sayı5 * sayı6)\n",
    "elif soru == \"4\": sayı7 = int(input(\"Bölme işlemi için ilk sayıyı girin: \")) sayı8 = int(input(\"Bölme işlemi için ikinci sayıyı girin: \")) print(sayı7, \"/\", sayı8, \"=\", sayı7 / sayı8)\n",
    "elif soru == \"5\": sayı9 = int(input(\"Karesini hesaplamak istediğiniz sayıyı girin: \")) print(sayı9, \"sayısının karesi =\", sayı9 ** 2)\n",
    "elif soru == \"6\": sayı10 = int(input(\"Karekökünü hesaplamak istediğiniz sayıyı girin: \")) print(sayı10, \"sayısının karekökü = \", sayı10 ** 0.5)\n",
    "else: \n",
    "    print(\"Yanlış giriş.\") \n",
    "    print(\"Aşağıdaki seçeneklerden birini giriniz:\", giriş)  "
   ]
  },
  {
   "cell_type": "markdown",
   "metadata": {},
   "source": [
    "whileTrueifadesişöylebiranlamagelir: Trueolduğumüddetçe... PekineTrueolduğumüddetçe? BuradaneyinTrueolmasıgerektiğinibelirtmediğimiziçin, aslındabukodparçasışuanlamageliyor: Aksibelirtilmediğisüreceçalışmayadevamet! Eğeryukarıdakiaçıklamayıbirazbulanıkbulduysanızşuörneğiinceleyebilirsiniz"
   ]
  },
  {
   "cell_type": "code",
   "execution_count": null,
   "metadata": {},
   "outputs": [],
   "source": [
    "while True: \n",
    "print(\"Bilgisayar çıldırdı!\") "
   ]
  },
  {
   "cell_type": "code",
   "execution_count": null,
   "metadata": {},
   "outputs": [],
   "source": [
    "if soru == \"q\": \n",
    "    print(\"çıkılıyor...\") break "
   ]
  },
  {
   "cell_type": "markdown",
   "metadata": {},
   "source": [
    "# 2 For Döngüsü"
   ]
  },
  {
   "cell_type": "markdown",
   "metadata": {},
   "source": [
    "for da tıpkı while gibi bir döngüdür. Yani tıpkı while döngüsünde olduğu gibi, programlarımızınbirdenfazlasayıdaçalışmasınısağlar.Ancakfordöngüsüwhiledöngüsüne göre biraz daha yeteneklidir. while döngüsü ile yapamayacağınız veya yaparken çok zorlanacağınızşeylerifordöngüsüyardımıylaçokkolaybirşekildehalledebilirsiniz. Yalnız,söylediğimizbucümleden, fordöngüsününwhiledöngüsünebiralternatifolduğu sonucunuçıkarmayın. Evet,whileileyapabildiğinizbirişlemiforiledeyapabilirsinizçoğu zaman,amabudöngülerin,bellivakalariçintekseçenekolduğudurumlardavardır.Zirabu ikidöngününçalışmamantığıbirbirindenfarklıdır. Şimdigelelimfordöngüsününnasılkullanılacağına... Dikkatlicebakın:"
   ]
  },
  {
   "cell_type": "code",
   "execution_count": null,
   "metadata": {},
   "outputs": [],
   "source": [
    "tr_harfler = \"şçöğüİı\"\n",
    "for harf in tr_harfler: \n",
    "print(harf)"
   ]
  },
  {
   "cell_type": "code",
   "execution_count": null,
   "metadata": {},
   "outputs": [],
   "source": [
    "for değişken_adı in değişken: yapılacak_işlem "
   ]
  },
  {
   "cell_type": "markdown",
   "metadata": {},
   "source": [
    "değişken içindeki herbir öğeyi değişken_adı olarak adlandır: ve bu öğelerle bir işlem yap. "
   ]
  },
  {
   "cell_type": "code",
   "execution_count": null,
   "metadata": {},
   "outputs": [],
   "source": [
    "izinli_karakterler = \"0123456789+-/*= \"\n",
    "for s in veri:\n",
    "    if s not in izinli_karakterler: \n",
    "    print(\"Neyin peşindesin?!\") quit()\n",
    "hesap = eval(veri) "
   ]
  },
  {
   "cell_type": "markdown",
   "metadata": {},
   "source": [
    "# İlgiliAraçlar"
   ]
  },
  {
   "cell_type": "markdown",
   "metadata": {},
   "source": [
    "1. rangeFonksiyonu"
   ]
  },
  {
   "cell_type": "markdown",
   "metadata": {},
   "source": [
    "rangekelimesiİngilizcede‘aralık’anlamınagelir. BizPython’darange()fonksiyonunubelli biraralıktabulunansayılarıgöstermekiçinkullanıyoruz"
   ]
  },
  {
   "cell_type": "code",
   "execution_count": null,
   "metadata": {},
   "outputs": [],
   "source": [
    " for i in range(0, 10): \n",
    "        print(i)"
   ]
  },
  {
   "cell_type": "markdown",
   "metadata": {},
   "source": [
    "range(ilk_sayı, son_sayı) "
   ]
  },
  {
   "cell_type": "markdown",
   "metadata": {},
   "source": [
    "Eğer range() fonksiyonununilkparametresi0 olacaksa,buparametreyibelirtmesekde olur.Yanimesela0‘dan10‘akadarolansayılarılisteleyeceksekrange()fonksiyonunuşöyle yazmamızyeterliolacaktır: "
   ]
  },
  {
   "cell_type": "code",
   "execution_count": null,
   "metadata": {},
   "outputs": [],
   "source": [
    " for i in range(10):\n",
    "        print(i) "
   ]
  },
  {
   "cell_type": "markdown",
   "metadata": {},
   "source": [
    "Kısacası,eğerrange()fonksiyonununkaçarkaçarsayacağınıdabelirtmekistiyorsak,parantez içinde,gereklibütünparametreleribelirtmeliyiz. Gördüğünüzgibi,range()fonksiyonunukullanarakbelirlibiraralıktakisayılarıalabiliyoruz. Pekibusayılarıterstenalabilirmiyiz?Elbette"
   ]
  },
  {
   "cell_type": "code",
   "execution_count": null,
   "metadata": {},
   "outputs": [],
   "source": [
    "for i in range(10, 0, -1):\n",
    "print(i)"
   ]
  },
  {
   "cell_type": "markdown",
   "metadata": {},
   "source": [
    "2. passDeyimi"
   ]
  },
  {
   "cell_type": "code",
   "execution_count": null,
   "metadata": {},
   "outputs": [],
   "source": [
    " BizbudeyimiPyhon’da‘görmezdengel,hiçbirşeyyapma’ anlamındakullanacağız. "
   ]
  },
  {
   "cell_type": "code",
   "execution_count": null,
   "metadata": {},
   "outputs": [],
   "source": [
    "while True: sayı = int(input(\"Bir sayı girin: \"))\n",
    "if sayı == 0: break\n",
    "elif sayı < 0: pass\n",
    "else: \n",
    "print(sayı)"
   ]
  },
  {
   "cell_type": "markdown",
   "metadata": {},
   "source": [
    "Buradaeğerkullanıcı0sayısınıgirerseprogramımızsonaerer(breakdeyiminibirazsonra inceleyeceğiz). Eğerkullanıcı0‘danküçükbirsayıgirerse, yanikullanıcınıngirdiğisayı eksideğerliise,passdeyiminininetkisiyleprogramımızhiçbirşeyyapmadanyolunadevam eder.Bukoşullarındışındakidurumlardaiseprogramımızkullanıcınıngirdiğisayılarıekrana yazdıracaktır"
   ]
  },
  {
   "cell_type": "markdown",
   "metadata": {},
   "source": [
    "Yukarıdaanlatılandurumlarındışında, pass deyiminikodlarınızhenüztaslakaşamasında olduğuzamandakullanabilirsiniz. Örneğin,diyelimkibirkodyazıyorsunuz. Programın gidişatınagöre,birnoktadayapmanızgerekenbirişlemvar,amahenüzneyapacağınıza kararvermediniz.Böylebirdurumdapassdeyimindenyararlanabilirsiniz.Meselabirtakım ifdeyimleriyazmayıdüşünüyorolun"
   ]
  },
  {
   "cell_type": "code",
   "execution_count": null,
   "metadata": {},
   "outputs": [],
   "source": [
    "if .....: böyle yap\n",
    "elif .....: şöyle yap\n",
    "else: pass"
   ]
  },
  {
   "cell_type": "markdown",
   "metadata": {},
   "source": [
    "3. breakDeyimi"
   ]
  },
  {
   "cell_type": "markdown",
   "metadata": {},
   "source": [
    "Budeyimyardımıyla,devamedenbirsürecikesintiye uğratabiliriz.Budeyiminkullanıldığıbasitbirörnekverelim"
   ]
  },
  {
   "cell_type": "code",
   "execution_count": null,
   "metadata": {},
   "outputs": [],
   "source": [
    " while True: \n",
    "        parola = input(\"Lütfen bir parola belirleyiniz:\") \n",
    "         \n",
    "        if len(parola) < 5:\n",
    "         \n",
    "            print(\"Parola 5 karakterden az olmamalı!\")\n",
    "            \n",
    "            else: \n",
    "            \n",
    "                print(\"Parolanız belirlendi!\") \n",
    "                break "
   ]
  },
  {
   "cell_type": "markdown",
   "metadata": {},
   "source": [
    "Burada,eğerkullanıcınıngirdiğiparolanınuzunluğu5karakterdenazsa,Parola5karakterden azolmamalı!uyarısıgösterilecektir.Eğerkullanıcı5karakterdenuzunbirparolabelirlemişse, kendisine‘Parolanızbelirlendi!’ mesajınıgösterip, break deyimiyardımıylaprogramdan çıkıyoruz. Gördüğünüz gibi, break ifadesinin temel görevi bir döngüyü sona erdirmek. Buradan anlayacağımızgibi,breakifadesininherzamanbirdöngüiçindeyeralmasıgerekiyor. Aksi haldePythonbizeşöylebirhataverecektir"
   ]
  },
  {
   "cell_type": "markdown",
   "metadata": {},
   "source": [
    "4. continueDeyimi"
   ]
  },
  {
   "cell_type": "code",
   "execution_count": null,
   "metadata": {},
   "outputs": [],
   "source": [
    "while True: s = input(\"Bir sayı girin: \") if s == \"iptal\": break\n",
    "if len(s) <= 3: continue\n",
    "print(\"En fazla üç haneli bir sayı girebilirsiniz.\") "
   ]
  },
  {
   "cell_type": "code",
   "execution_count": null,
   "metadata": {},
   "outputs": [],
   "source": [
    "if s == \"iptal\": break "
   ]
  },
  {
   "cell_type": "markdown",
   "metadata": {},
   "source": [
    "# örnek uygulama"
   ]
  },
  {
   "cell_type": "code",
   "execution_count": null,
   "metadata": {},
   "outputs": [],
   "source": [
    "d1 = open(\"isimler1.txt\") # dosyayı açıyoruz \n",
    "d1_satırlar = d1.readlines() # satırları okuyoruz\n",
    "d2 = open(\"isimler2.txt\") d2_satırlar = d2.readlines()\n",
    "for i in d2_satırlar: \n",
    "    if not i in d1_satırlar: print(i)\n",
    "d1.close()\n",
    "d2.close() "
   ]
  },
  {
   "cell_type": "markdown",
   "metadata": {},
   "source": [
    "# hata yakalama"
   ]
  },
  {
   "cell_type": "markdown",
   "metadata": {},
   "source": [
    "1.ProgramcıHataları(Error) 2.ProgramKusurları(Bug) 3.İstisnalar(Exception) "
   ]
  },
  {
   "cell_type": "markdown",
   "metadata": {},
   "source": [
    "Programcıdan kaynaklanan hatalar doğrudan doğruya programı yazan kişinin dikkatsizliğinden ötürü ortaya çıkan bariz hatalardır. Örneğin şu kod bir programcı hatasıiçerir"
   ]
  },
  {
   "cell_type": "code",
   "execution_count": null,
   "metadata": {},
   "outputs": [],
   "source": [
    "print \"Merhaba Python!\" "
   ]
  },
  {
   "cell_type": "markdown",
   "metadata": {},
   "source": [
    "rBu hatalar, programlama diline ilişkin bir özelliğin yanlış kullanımından veya en basit şekildeprogramcınınyaptığıyazımhatalarındankaynaklanır.Programcınınhatalarıgenellikle SyntaxErrorşeklindeortayaçıkar"
   ]
  },
  {
   "cell_type": "markdown",
   "metadata": {},
   "source": [
    "Programkusurları,başkabirdeyişlebug‘lariseçokdahakarmaşıktır. Kusurluprogramlar çoğuzamanherhangibirhatavermedençalışır.Ancakprogramınürettiğiçıktılarbeklediğiniz gibideğildir. Örneğinyazdığınızprogramdabirformülhatasıyapmışolabilirsiniz. Bu durumda programınız hiçbir şey yokmuş gibi çalışır, ancak formül hatalı olduğu için hesaplamalarınsonuçlarıyanlıştır"
   ]
  },
  {
   "cell_type": "markdown",
   "metadata": {},
   "source": [
    "Gelelimüçüncükategoriolanistisnalara(exceptions)... İstisnalar,adındandaazçokanlaşılacağıgibi,birprogramınçalışmasısırasındaortayaçıkan, normaldenfarklı,istisnaidurumlardır.Örneğinşuprogramabakalım:"
   ]
  },
  {
   "cell_type": "code",
   "execution_count": null,
   "metadata": {},
   "outputs": [],
   "source": [
    "ilk_sayı = input(\"ilk sayı: \") \n",
    "ikinci_sayı = input(\"ikinci sayı: \")\n",
    "ilk_sayı = int(ilk_sayı) ikinci_sayı = int(ikinci_sayı)\n",
    "print(ilk_sayı, \"/\", ikinci_sayı, \"=\", ilk_sayı / ikinci_sayı)"
   ]
  },
  {
   "cell_type": "markdown",
   "metadata": {},
   "source": [
    "yapabilir.Amaburadahesabakatmamızgerekenikişeyvar: 1.Kullanıcısayıyerine,sayıdeğerliolmayanbirveritipigirebilir.Meselailksayıyakarşılık 23,ikincisayıyakarşılık‘fdsfd’gibibirşeyyazabilir\n",
    "2.Kullanıcıbirsayıyı0‘abölmeyeçalışabilir. Meselailksayıyakarşılık23,ikincisayıya karşılık0yazabilir. "
   ]
  },
  {
   "cell_type": "markdown",
   "metadata": {},
   "source": [
    "ştebuikiörnektegördüğümüz ValueError ve ZeroDivisionError bireristisnadır. Yani kullanıcıların,kendilerindensayıbeklenirkensayıdeğerliolmayanverigirmesiveyabirsayıyı 0’abölmeyeçalışmasıistisnaibirerdurumdurveyazdığımızprogramlarınexception(istisna) üretmesineyolaçar"
   ]
  },
  {
   "cell_type": "markdown",
   "metadata": {},
   "source": [
    "2. try...except... \n"
   ]
  },
  {
   "cell_type": "code",
   "execution_count": null,
   "metadata": {},
   "outputs": [],
   "source": [
    "Biröncekibölümdehatalardanvehatalarıyakalamaktansözettik. Pekibuhatalarınasıl yakalayacağız"
   ]
  },
  {
   "cell_type": "code",
   "execution_count": null,
   "metadata": {},
   "outputs": [],
   "source": [
    "ilk_sayı = input(\"ilk sayı: \") \n",
    "ikinci_sayı = input(\"ikinci sayı: \")\n",
    "print(sayı1, \"/\", sayı2, \"=\", sayı1 / sayı2)\n",
    "try: sayı1 = int(ilk_sayı) sayı2 = int(ikinci_sayı) \n",
    "    print(sayı1, \"/\", sayı2, \"=\", sayı1 / sayı2) \n",
    "    except ValueError: \n",
    "    print(\"Lütfen sadece sayı girin!\") "
   ]
  },
  {
   "cell_type": "markdown",
   "metadata": {},
   "source": [
    "Biliyoruz ki, bir veriyi sayıya dönüştürmek istediğimizde eğer kullanıcı sayı değerli bir veriyerineharfdeğerlibirverigirerseprogramımızçöker. Dolayısıyla int(ilk_sayı) ve int(ikinci_sayı)kodları,kullanıcınıngireceğiveritürünegörehataüretmepotansiyeline sahiptir.Oyüzden,buradahatavereceğinibildiğimizokodlarıtrybloğuiçinealdık. Yinebildiğimizgibi,veridönüştürmeişlemisırasındakullanıcınınuygunolmayanbirveri girmesihalindeüretilecekhatabirValueError‘dır.Dolayısıylaexceptbloğuiçineyazacağımız hatatürününadıdaValueErrorolacaktır.OyüzdenValueErroradlıhatayıyakalayabilmek içinşusatırlarıyazdık: \n",
    "    \n",
    "        \n"
   ]
  },
  {
   "cell_type": "code",
   "execution_count": null,
   "metadata": {},
   "outputs": [],
   "source": [
    "except ValueError: print(\"Lütfen sadece sayı girin!\") "
   ]
  },
  {
   "cell_type": "markdown",
   "metadata": {},
   "source": [
    "BuradabukodlarlaPython’aşuemrivermişolduk: EğertrybloğuiçindebelirtilenişlemlersırasındabirValueErrorilekarşılaşırsan bunu görmezden gel ve normal şartlar altında kullanıcıya göstereceğin hata mesajını gösterme. Onun yerine kullanıcıya Lütfen sadece sayı girin! uyarısınıgöster. YukarıdaTürkçeyeçevirdiğimizemriPythoncadanasılifadeettiğimizedikkatedin. Temel olarakşöylebiryapıylakarşıkarşıyayız: "
   ]
  },
  {
   "cell_type": "code",
   "execution_count": null,
   "metadata": {},
   "outputs": [],
   "source": [
    "try: hata verebileceğini bildiğimiz kodlar \n",
    "except HataAdı: hata durumunda yapılacak işlem "
   ]
  },
  {
   "cell_type": "code",
   "execution_count": null,
   "metadata": {},
   "outputs": [],
   "source": [
    "ilk_sayı = input(\"ilk sayı: \")\n",
    "ikinci_sayı = input(\"ikinci sayı: \") \n",
    "try: sayı1 = int(ilk_sayı) sayı2 = int(ikinci_sayı) \n",
    "    print(sayı1, \"/\", sayı2, \"=\", sayı1 / sayı2) \n",
    "    except ZeroDivisionError:\n",
    "        print(\"Bir sayıyı 0'a bölemezsiniz!\")"
   ]
  },
  {
   "cell_type": "markdown",
   "metadata": {},
   "source": [
    "türünüyakalamayolunagidiyoruz.Böylecekullanıcıyaanlamsızvekarmaşıkhatamesajları göstermekvedahadakötüsü,programımızınçökmesinesebepolmakyerinedahaanlaşılır mesajlarüretiyoruz. Yukarıdakikodlardaözelliklebirnoktadikkatiniziçekmişolmalı:Dikkatedersenizyukarıdaki kodlaraslındabirdeğilikifarklıhataüretmepotansiyelinesahip.Eğerkullanıcısayıdeğerli veriyerineharfdeğerlibirverigirerse ValueError,eğerbirsayıyı0‘abölmeyeçalışırsa da ZeroDivisionError hatası alıyoruz. Peki aynı kodlarda iki farklı hata türünü nasıl yakalayacağız? "
   ]
  },
  {
   "cell_type": "code",
   "execution_count": null,
   "metadata": {},
   "outputs": [],
   "source": [
    "ilk_sayı = input(\"ilk sayı: \")\n",
    "ikinci_sayı = input(\"ikinci sayı: \")\n",
    "try: \n",
    "    sayı1 = int(ilk_sayı) \n",
    "    sayı2 = int(ikinci_sayı) \n",
    "    print(sayı1, \"/\", sayı2, \"=\", sayı1 / sayı2)\n",
    "    except ZeroDivisionError:\n",
    "        print(\"Bir sayıyı 0'a bölemezsiniz!\") \n",
    "        except ValueError:\n",
    "            print(\"Lütfen sadece sayı girin!\")"
   ]
  },
  {
   "cell_type": "markdown",
   "metadata": {},
   "source": [
    "3. try...except...as... "
   ]
  },
  {
   "cell_type": "code",
   "execution_count": null,
   "metadata": {},
   "outputs": [],
   "source": [
    "ValueError: invalid literal for int() with base 10: 'f' "
   ]
  },
  {
   "cell_type": "markdown",
   "metadata": {},
   "source": [
    "Burada‘ValueError’hatatürününadı,‘invalidliteralforint()withbase10: ‘f”isehatanın açıklamasıdır. Eğer istersek, yazdığımız programda bu hata açıklamasına erişebiliriz. Dikkatlicebakın"
   ]
  },
  {
   "cell_type": "code",
   "execution_count": null,
   "metadata": {},
   "outputs": [],
   "source": [
    "ilk_sayı = input(\"ilk sayı: \") \n",
    "ikinci_sayı = input(\"ikinci sayı: \")\n",
    "try: \n",
    "    sayı1 = int(ilk_sayı) \n",
    "    sayı2 = int(ikinci_sayı) \n",
    "    print(sayı1, \"/\", sayı2, \"=\", sayı1 / sayı2)\n",
    "    except ValueError as hata: \n",
    "    print(hata) "
   ]
  },
  {
   "cell_type": "markdown",
   "metadata": {},
   "source": [
    "4. try...except...else... "
   ]
  },
  {
   "cell_type": "code",
   "execution_count": null,
   "metadata": {},
   "outputs": [],
   "source": [
    "try: \n",
    "    bölünen = int(input(\"bölünecek sayı: \"))\n",
    "    bölen = int(input(\"bölen sayı: \"))\n",
    "    print(bölünen/bölen)\n",
    "except ValueError: \n",
    "print(\"hata!\") "
   ]
  },
  {
   "cell_type": "markdown",
   "metadata": {},
   "source": [
    "Buradaeğerkullanıcısayıyerineharfgirerse ValueError hatasıalırız. Buhatayı except ValueError: ifadesiyleyakalıyoruzvehataverildiğindekullanıcıyabirmesajgöstererek programımızınçökmesiniengelliyoruz.Amabiliyoruzki,bukodlarıçalıştırdığımızdaPython’ın verebileceğitekhataValueErrordeğildir.Eğerkullanıcıbirsayıyı0’abölmeyeçalışırsaPython \n",
    "roDivisionErroradlıhatayıverecektir.Dolayısıylabuhatayıdayakalamakiçinşöylebir şeyyazabiliriz:"
   ]
  },
  {
   "cell_type": "code",
   "execution_count": null,
   "metadata": {},
   "outputs": [],
   "source": [
    "try: bölünen = int(input(\"bölünecek sayı: \"))\n",
    "    bölen = int(input(\"bölen sayı: \")) \n",
    "    print(bölünen/bölen) \n",
    "    except ValueError:\n",
    "        print(\"Lütfen sadece sayı girin!\") \n",
    "        except ZeroDivisionError: \n",
    "            print(\"Bir sayıyı 0'a bölemezsiniz!\")"
   ]
  },
  {
   "cell_type": "markdown",
   "metadata": {},
   "source": [
    "BuşekildehemValueErrorhatasınıhemdeZeroDivisionErrorhatasınıyakalamışoluruz. Bukodlarınözelliği,except... bloklarınıntekbirtry... bloğunutemelalmasıdır.Yanibiz buradabütünkodlarımızıtekbirtry...bloğuiçinetıkıştırıyoruz.Bublokiçindegerçekleşen hatalarıdadahasonratektek except... bloklarıyardımıylayakalıyoruz. Amaeğerbiz istersekbukodlardaverilebilecekhatalarıgruplamayıdatercihedebiliriz"
   ]
  },
  {
   "cell_type": "code",
   "execution_count": null,
   "metadata": {},
   "outputs": [],
   "source": [
    "try: bölünen = int(input(\"bölünecek sayı: \"))\n",
    "    bölen = int(input(\"bölen sayı: \")) \n",
    "    except ValueError: \n",
    "        print(\"Lütfen sadece sayı girin!\")\n",
    "        else: try: print(bölünen/bölen)\n",
    "                except ZeroDivisionError:\n",
    "                    print(\"Bir sayıyı 0'a bölemezsiniz!\") "
   ]
  },
  {
   "cell_type": "markdown",
   "metadata": {},
   "source": [
    "Buradayaptığımızşeyşu:İlktry... except... bloğuyardımıylaöncelikleint(input()) fonksiyonuilekullanıcıdangelecekverininsayıolupolmadığınıdenetliyoruz. Ardından bir else... bloğuaçarak, bununiçindeikinci try... except... bloğumuzudevreye sokuyoruz.Buradadabölmeişleminigerçekleştiriyoruz.Kullanıcınınbölmeişlemisırasında 0 sayısınıgirmesiihtimalinekarşıda except ZeroDivisionError ifadesiyardımıylaolası hatayıgöğüslüyoruz. Buşekildebirkodlamanınbizegetireceğiavantaj,hatalarüzerinde bellibirkontrolsağlamamızayardımcıolmasıdır. Yukarıdakikodlarsayesindehatalarabir nevi‘tekertekergelin!’ mesajıvermişoluyoruz. Böylelikleherblokiçindesadecealmayı beklediğimizhatayıkarşılıyoruz.Meselayukarıdailktry...bloğuiçindekidönüştürmeişlemi yalnızcaValueErrorhatasıverebilir. else: bloğundansonrakitry... bloğundayeralan işlemiseancak ZeroDivisionError verecektir. Bizyukarıdakullandığımızyapısayesinde herbirhatayıtektekveyerigeldiğindekarşılıyoruz. Budurumunaksine,bölümünilk başındaverdiğimiztry... exceptbloğundahemValueErrorhemdeZeroDivisionError hatalarınıngerçekleşmeihtimalibulunuyor. Dolayısıylabizoradabütünhatalarıtekbir try...bloğuiçinesıkıştırmışoluyoruz.İşteelse:bloğubusıkışıklığıgidermişoluyor.Ancak sizibirkonudauyarmakisterim:Buyapı,heraklageldiğindekullanılacakbiryapıdeğildir. Büyük programlarda bu tarz bir kullanım kodlarınızın darmadağın olmasına, kodlarınız üzerindekidenetimitamamenkaybetmenizedeyolaçabilir. Sonundadaelinizdebölük pörçükbirkodyığınıkalabilir.Zatenaçıkçasöylemekgerekirsetry... except... else... yapısınınçokgenişbirkullanımalanıyoktur.Buyapıancakçoknadirdurumlardakullanılmayı gerektirebilir.Dolayısıylabuüçlüyapıyıhiçkullanmadanbirömrürahatlıklageçirebilirsiniz"
   ]
  },
  {
   "cell_type": "markdown",
   "metadata": {},
   "source": [
    "5. try...except...ﬁnally... "
   ]
  },
  {
   "cell_type": "code",
   "execution_count": null,
   "metadata": {},
   "outputs": [],
   "source": [
    "try: ...bir takım işler...\n",
    "    except birHata: ...hata alınınca yapılacak işlemler... \n",
    "        finally: ...hata olsa da olmasa da yapılması gerekenler... "
   ]
  },
  {
   "cell_type": "markdown",
   "metadata": {},
   "source": [
    "6. raise"
   ]
  },
  {
   "cell_type": "code",
   "execution_count": null,
   "metadata": {},
   "outputs": [],
   "source": [
    "bölünen = int(input(\"bölünecek sayı: \"))\n",
    "if bölünen == 23:\n",
    "    raise Exception(\"Bu programda 23 sayısını görmek istemiyorum!\")\n",
    "bölen = int(input(\"bölen sayı: \"))\n",
    "print(bölünen/bölen)"
   ]
  },
  {
   "cell_type": "markdown",
   "metadata": {},
   "source": [
    "Buradaeğerkullanıcı23sayısınıgirerse,kullanıcıyabirhatamesajıgösterilipprogramdan çıkılacaktır.BizbukodlardaExceptionadlıgenelhatamesajınıkullandık.BuradaException yerineheristediğimiziyazamayız.YazabileceklerimizancakPython’datanımlıhatamesajları olabilir.ÖrneğinNameError,TypeError,ZeroDivisionError,IOError,vb... "
   ]
  },
  {
   "cell_type": "code",
   "execution_count": null,
   "metadata": {},
   "outputs": [],
   "source": [
    "tr_karakter = \"şçğüöıİ\"\n",
    "parola = input(\"Parolanız: \")\n",
    "for i in parola: if i in tr_karakter: raise TypeError(\"Parolada Türkçe karakter kullanılamaz!\") \n",
    "        else: pass\n",
    "print(\"Parola kabul edildi!\") "
   ]
  },
  {
   "cell_type": "markdown",
   "metadata": {},
   "source": [
    "ukodlarçalıştırıldığında,eğerkullanıcı,içindeTürkçekaraktergeçenbirparolayazarsa kendisineTypeErrortipindebirhatamesajıgösteriyoruz. EğerkullanıcınınparolasıTürkçe karakteriçermiyorsahiçbirşeyyapmadangeçiyoruzvebirsonrakisatırdakendisine‘Parola kabuledildi!’mesajınıgösteriyoruz"
   ]
  },
  {
   "cell_type": "markdown",
   "metadata": {},
   "source": [
    "7. BütünHatalarıYakalamak "
   ]
  },
  {
   "cell_type": "code",
   "execution_count": null,
   "metadata": {},
   "outputs": [],
   "source": [
    "try:\n",
    "birtakım işler\n",
    "except: \n",
    "hata mesajı"
   ]
  },
  {
   "cell_type": "markdown",
   "metadata": {},
   "source": [
    "Ayrıca,eğerkendimizbirprogramgeliştirirkensürekliolarakbutarzbiryazımıbenimsersek, kendikodlarımızdakihatalarıdamaskelemişoluruz. Dolayısıyla,Pythonyukarıdakigeniş kapsamlı except... bloğu nedeniyle programımızdaki bütün hataları gizleyeceği için, programımızdakipotansiyelaksaklıklarıgörmeimkanımızolmaz. Dolayısıylabutürbir yapıdanolabildiğincekaçınmaktafaydavar.Ancakelbetteböylebirkodyazmanızıgerektiren birdurumladakarşılaşabilirsiniz.Örneğin"
   ]
  },
  {
   "cell_type": "code",
   "execution_count": null,
   "metadata": {},
   "outputs": [],
   "source": [
    "try: \n",
    "    birtakım kodlar\n",
    "    except ValueError: \n",
    "        print(\"Yanlış değer\") \n",
    "        except ZeroDivisionError: \n",
    "            print(\"Sıfıra bölme hatası\")\n",
    "            except:\n",
    "                print(\"Beklenmeyen bir hata oluştu!\")"
   ]
  },
  {
   "cell_type": "markdown",
   "metadata": {},
   "source": [
    "Burada olası bütün hata türlerini yakaladıktan sonra, bunların dışında bizim o anda öngöremediğimiz bir hatanın oluşması ihtimaline karşı except: kodunu kullanarak kullanıcıyagenelbirhatamesajıgöstermeyitercihedebiliriz.Böylecebeklenmeyenbirhata meydanagelmesidurumundadaprogramımızçökmekyerineçalışmayadevamedebilecektir. "
   ]
  },
  {
   "cell_type": "markdown",
   "metadata": {},
   "source": [
    "# Karakter Dizilerinin Öğelerine Erişmek"
   ]
  },
  {
   "cell_type": "code",
   "execution_count": null,
   "metadata": {},
   "outputs": [],
   "source": [
    "kardiz = \"Python\""
   ]
  },
  {
   "cell_type": "code",
   "execution_count": null,
   "metadata": {},
   "outputs": [],
   "source": [
    " kardiz[0]\n"
   ]
  },
  {
   "cell_type": "markdown",
   "metadata": {},
   "source": [
    "Belkifarkındasınız,belkidedeğilsiniz,amaaslındaşunoktadakarakterdizilerininçokönemli birözelliğiilekarşıkarşıyayız.Gördüğünüzgibi,yukarıdabahsettiğimizsırakavramısayesinde Python’dakarakterdizilerininbütünöğelerinetektekveherhangibirsıragözetmeksizin erişmemizmümkün.Meselayukarıdakiilkörnektekardiz[0]gibibiryapıkullanarakkarakter dizisininsıfırıncı(yaniilk)öğesini,nesne[1]gibibiryapıkullanarakdakarakterdizisininbirinci (yaniaslındaikinci)öğesinialabildik. Buyapınınmantığınıkavramakiçinşuörnekleridikkatliceinceleyin: "
   ]
  },
  {
   "cell_type": "code",
   "execution_count": null,
   "metadata": {},
   "outputs": [],
   "source": [
    " kardiz = \"Python\"\n",
    ">>> kardiz[0]\n",
    "'P'\n",
    ">>> kardiz[1]\n",
    "'y'\n",
    ">>> kardiz[3]\n",
    "'h'\n",
    ">>> kardiz[5]\n"
   ]
  },
  {
   "cell_type": "markdown",
   "metadata": {},
   "source": [
    "karakter_dizisi[öğe_sırası]"
   ]
  },
  {
   "cell_type": "code",
   "execution_count": null,
   "metadata": {},
   "outputs": [],
   "source": [
    " nesne = \"123456789\" \n",
    "    int(nesne[1]) * 2\n"
   ]
  },
  {
   "cell_type": "markdown",
   "metadata": {},
   "source": [
    "# KarakterDizileriniDilimlemek"
   ]
  },
  {
   "cell_type": "code",
   "execution_count": null,
   "metadata": {},
   "outputs": [],
   "source": [
    " site = \"www.istihza.com\" \n",
    " \n",
    " site[4:11]\n",
    "site[12:16]\n",
    "\n",
    " site[0:3]\n"
   ]
  },
  {
   "cell_type": "markdown",
   "metadata": {},
   "source": [
    "karakter_dizisi[alınacak_ilk_öğenin_sırası:alınacak_son_öğenin_sırasının_bir_fazlası] "
   ]
  },
  {
   "cell_type": "code",
   "execution_count": null,
   "metadata": {},
   "outputs": [],
   "source": [
    ">>> karakter_dizisi = \"istanbul\" \n",
    ">>> karakter_dizisi[0:3]\n",
    "'ist"
   ]
  },
  {
   "cell_type": "markdown",
   "metadata": {},
   "source": [
    "Buradaalacağımızilköğeninsıranumarası0. Yani“istanbul”karakterdizisindeki‘i’harﬁ. Alacağımızsonöğeninsıranumarasının1fazlasıise3. Yani2. sıradaki‘t’harﬁ. İşte karakter_dizisi[0:3]dediğimizde,Python0. öğeile3. öğearasındakalanbütünöğeleri bizeverecektir.Bizimörneğimizdebuaralıktakiöğeler‘i’,‘s’ve‘t’harﬂeri.DolayısıylaPython bize‘istanbul’kelimesindeki‘ist’kısmınıdilimleyipveriyor. Bubilgilerikullanarakşöylebiruygulamayazalım: "
   ]
  },
  {
   "cell_type": "code",
   "execution_count": null,
   "metadata": {},
   "outputs": [],
   "source": [
    "site1 = \"www.google.com\" \n",
    "site2 = \"www.istihza.com\" \n",
    "site3 = \"www.yahoo.com\" \n",
    "site4 = \"www.gnu.org\"\n",
    "for isim in site1, site2, site3, site4: \n",
    "print(\"site: \", isim[4:-4]) "
   ]
  },
  {
   "cell_type": "markdown",
   "metadata": {},
   "source": [
    "# KarakterDizileriniTersÇevirmek "
   ]
  },
  {
   "cell_type": "markdown",
   "metadata": {},
   "source": [
    "Eğeramacınızbirkarakterdizisinitersçevirmek,yanikarakterdizisiiçindekiherbiröğeyi terstenyazdırmaksabirazönceöğrendiğimizdilimlemeyönteminikullanabilirsiniz.Dikkatlice bakın: "
   ]
  },
  {
   "cell_type": "code",
   "execution_count": null,
   "metadata": {},
   "outputs": [],
   "source": [
    " kardiz[::-1]\n"
   ]
  },
  {
   "cell_type": "markdown",
   "metadata": {},
   "source": [
    "Gördüğünüz gibi, “Sana Gül Bahçesi Vadetmedim” adlı karakter dizisi içindeki bütün karakterlersondanbaşadoğruekranadizildi. AslındabukomutlaPython’aşöylebiremirvermişoluyoruz: kardiz değişkeniiçindekibütünkarakterleri,ensonkarakterdenilkkaraktere kadarsondanbaşadoğrutektekekranayazdır! Bildiğinizgibi,eğeralmakistediğimizkarakter,diziiçindekiilkkaraktersebukarakterindizi içindekisırasınıbelirtmemizegerekyok. Aynışekilde,eğeralmakistediğimizkarakter,dizi içindekisonkarakterse,bukarakterindediziiçindekisırasınıbelirtmemizegerekyok. İşte yukarıdakiörnektebukuraldanyararlandık. Eğer bir karakter dizisinin tamamının değil de, sadece belli bir kısmının ters çevrilmiş halinieldeetmekistiyorsanızelbetteyapmanızgerekenşey,almakistediğinizilkveson karakterlerinsırasınıparanteziçindebelirtmekolacaktır.Meselayukarıdakikarakterdizisinde sadece‘Gül’kelimesinitersçevirmekistersekşöylebirşeyyazabiliriz: "
   ]
  },
  {
   "cell_type": "code",
   "execution_count": null,
   "metadata": {},
   "outputs": [],
   "source": [
    " kardiz[7:4:-1]\n"
   ]
  },
  {
   "cell_type": "markdown",
   "metadata": {},
   "source": [
    "Gül ters yazdık"
   ]
  },
  {
   "cell_type": "markdown",
   "metadata": {},
   "source": [
    "kardiz[ilk_karakter:son_karakter:atlama_sayısı] "
   ]
  },
  {
   "cell_type": "markdown",
   "metadata": {},
   "source": [
    "# KarakterDizileriniAlfabeSırasınaDizmek"
   ]
  },
  {
   "cell_type": "markdown",
   "metadata": {},
   "source": [
    "Python’dakarakterdizilerininöğelerinetektekulaşma,öğeleridilimlemevetersçevirmenin yanısıra,buöğelerialfabesırasınadizmekdemümkündür. Bununiçin sorted() adlıbir fonksiyondanyararlanacağı"
   ]
  },
  {
   "cell_type": "code",
   "execution_count": null,
   "metadata": {},
   "outputs": [],
   "source": [
    "sorted(\"kitap\")\n"
   ]
  },
  {
   "cell_type": "markdown",
   "metadata": {},
   "source": [
    "# KarakterDizileriÜzerindeDeğişiklikYapmak"
   ]
  },
  {
   "cell_type": "code",
   "execution_count": null,
   "metadata": {},
   "outputs": [],
   "source": [
    " meyve = \"elma\" "
   ]
  },
  {
   "cell_type": "code",
   "execution_count": null,
   "metadata": {},
   "outputs": [],
   "source": [
    "\"E\" + meyve[1:]"
   ]
  },
  {
   "cell_type": "markdown",
   "metadata": {},
   "source": [
    "Belkifarkındayız,belkidedeğiliz,amaaslındayukarıdakiörneklerkarakterdizilerihakkında bizeçokönemlibirbilgiveriyor. Dikkatettiysenizyukarıdakiörneklerdekarakterdizileri üzerindebirdeğişiklikyapmışızgibigörünüyor. Esasındaöylededenebilir. Ancakburada önemlibirayrıntıvar. Yukarıdakiörneklerdegördüğümüzdeğişikliklerkalıcıdeğildir. Yani aslındabudeğişikliklerinorijinalkarakterdizisiüzerindehiçbiretkisiyoktu"
   ]
  },
  {
   "cell_type": "markdown",
   "metadata": {},
   "source": [
    "# dir() "
   ]
  },
  {
   "cell_type": "markdown",
   "metadata": {},
   "source": [
    " BumetotbizePython’dakibir nesneninözelliklerihakkındabilgiedinmeimkanıverecek. Meselakarakterdizilerininbize hangimetotlarısunduğunugörmekiçinbufonksiyonuşöylekullanabiliriz"
   ]
  },
  {
   "cell_type": "code",
   "execution_count": null,
   "metadata": {},
   "outputs": [],
   "source": [
    " dir(str)\n"
   ]
  },
  {
   "cell_type": "markdown",
   "metadata": {},
   "source": [
    "İngilizcede‘karakterdizisi’ninkarşılığınınstring,bukelimeninkısaltmasınında‘str’olduğunu hatırlıyor olmalısınız. İşte dir() fonksiyonuna parametre olarak bu ‘str’ kelimesini verdiğimizde,Pythonbizekarakterdizilerininbütünmetotlarınılisteliyor. Karakterdizileridışında, şimdiyekadaröğrendiğimizbaşkabirveritipidesayılar. Biz Python’dasayılarıntamsayılar(integer),kayannoktalısayılar(ﬂoat)vekarmaşıksayılar (complex)olaraküçeayrıldığınıdabiliyoruz.Örnekolmasıaçısındandir()fonksiyonunubir desırasıyla,tamsayılar,kayannoktalısayılarvekarmaşıksayılarüzerindedeuygulayalım"
   ]
  },
  {
   "cell_type": "code",
   "execution_count": null,
   "metadata": {},
   "outputs": [],
   "source": [
    " dir(int)\n",
    ">>> dir(float)\n",
    ">>> dir(complex) "
   ]
  },
  {
   "cell_type": "markdown",
   "metadata": {},
   "source": [
    "# enumerate() "
   ]
  },
  {
   "cell_type": "markdown",
   "metadata": {},
   "source": [
    "Eğer yazdığınız bir programda numaralandırmaya ilişkin işlemler yapmanız gerekiyorsa Python’ınsizesunduğuçoközelbirfonksiyondanyararlanabilirsiniz. Bufonksiyonunadı enumerate()."
   ]
  },
  {
   "cell_type": "code",
   "execution_count": null,
   "metadata": {},
   "outputs": [],
   "source": [
    " enumerate(\"istihza\")\n"
   ]
  },
  {
   "cell_type": "markdown",
   "metadata": {},
   "source": [
    "Tıpkıreversed()fonksiyonununbir‘reversed’nesnesivermesigibi,bufonksiyonundabize yalnızcabir‘enumerate’nesnesiverdiğinigörüyorsunuz"
   ]
  },
  {
   "cell_type": "markdown",
   "metadata": {},
   "source": [
    "Enumerate kelimesi İngilizcede ‘numaralamak, numaralandırmak’ gibi anlamlara gelir. Dolayısıylaenumerate()fonksiyonu,kendisineparametreolarakverilendeğerhakkındabize ikifarklıbilgiverir:Biröğevebuöğeyeaitbirsıranumarası.Yukarıdakiçıktıdagördüğünüz şeydeişteherbiröğeninkendisiveoöğeyeaitbirsıranumarasıdır."
   ]
  },
  {
   "cell_type": "code",
   "execution_count": null,
   "metadata": {},
   "outputs": [],
   "source": [
    "sayaç = 0\n"
   ]
  },
  {
   "cell_type": "code",
   "execution_count": null,
   "metadata": {},
   "outputs": [],
   "source": [
    "for i in dir(\"\"):\n",
    "    if \"_\" not in i[0]:\n",
    "        sayaç += 1 \n",
    "        print(sayaç, i) "
   ]
  },
  {
   "cell_type": "code",
   "execution_count": null,
   "metadata": {},
   "outputs": [],
   "source": [
    "for sıra, metot in enumerate(dir(\"\")): \n",
    "    print(sıra, metot) "
   ]
  },
  {
   "cell_type": "code",
   "execution_count": null,
   "metadata": {},
   "outputs": [],
   "source": [
    "for sıra, metot in enumerate(dir(\"\")): ... \n",
    "    print(metot, sıra) ... \n",
    "    "
   ]
  },
  {
   "cell_type": "markdown",
   "metadata": {},
   "source": [
    "# help()"
   ]
  },
  {
   "cell_type": "markdown",
   "metadata": {},
   "source": [
    "Python’lailgiliherhangibirkonudayardımaihtiyacınızolduğunda,internettenaraştırma yaparakpekçokayrıntılıbelgeyeulaşabilirsiniz. Amaeğerherhangibirnesnehakkında hızlıbirşekildeveİngilizceolarakyardımalmakistersenizhelp()adlıözelbirfonksiyondan yararlanabilirsiniz. Bufonksiyonuikifarklışekildekullanıyoruz. Birinciyöntemde,etkileşimlikabuğa help() yazıpEnterdüğmesinebasıyoruz: "
   ]
  },
  {
   "cell_type": "code",
   "execution_count": null,
   "metadata": {},
   "outputs": [],
   "source": [
    "help> dir"
   ]
  },
  {
   "cell_type": "markdown",
   "metadata": {},
   "source": [
    "# Karakter Dizilerinin Metotları"
   ]
  },
  {
   "cell_type": "code",
   "execution_count": null,
   "metadata": {},
   "outputs": [],
   "source": [
    "bumetodukullanarakbirkarakterdizisi içindekikarakterleribaşkakarakterlerledeğiştirebileceğiz"
   ]
  },
  {
   "cell_type": "code",
   "execution_count": null,
   "metadata": {},
   "outputs": [],
   "source": [
    "kardiz.replace(\"e\", \"E\")\n"
   ]
  },
  {
   "cell_type": "markdown",
   "metadata": {},
   "source": [
    "Gördüğünüzgibi,replace()sondereceyararlıvekullanımıoldukçakolaybirmetot.Buarada builkmetodumuzsayesindePython’dakimetotlarınnasılkullanılacağıkonusundadabilgi edinmişolduk.Yukarıdakiörneklerinbizegösterdiğigibişöylebirformüllekarşıkarşıyayız"
   ]
  },
  {
   "cell_type": "markdown",
   "metadata": {},
   "source": [
    "karakter_dizisi.metot(parametre) "
   ]
  },
  {
   "cell_type": "markdown",
   "metadata": {},
   "source": [
    "Metotlarkarakterdizilerindennoktaileayrılır.Python’dabuyönteme‘noktalıgösterim’(dot notation)adıverilir. Buaradametotlarıngörünüşvekullanımolarakfonksiyonlaranekadarbenzediğinedikkat edin.Tıpkıfonksiyonlardaolduğugibi,metotlardabirtakımparametreleralabiliyor. Yukarıdakiörnekte,replace()metodununikifarklıparametrealdığınıgörüyoruz.Bumetoda verdiğimizilkparametredeğiştirmekistediğimizkarakterdizisinigösteriyor.İkinciparametre isebirinciparametredebelirlediğimizkarakterdizisininyerinenekoyacağımızıbelirtiyor.Yani replace()metoduşöylebirformülesahiptir: "
   ]
  },
  {
   "cell_type": "code",
   "execution_count": null,
   "metadata": {},
   "outputs": [],
   "source": [
    "karakter_dizisi.replace(eski_karakter_dizisi, yeni_karakter_dizisi) "
   ]
  },
  {
   "cell_type": "code",
   "execution_count": null,
   "metadata": {},
   "outputs": [],
   "source": [
    " kardiz = \"memleket\" \n",
    "    >>> kardiz.replace(\"ket\", \"KET\")\n",
    " "
   ]
  },
  {
   "cell_type": "markdown",
   "metadata": {},
   "source": [
    "Buradareplace()metodunuüçüncübirparametreilebirliktekullandık.Üçüncüparametre olarak1sayısınıverdiğimiziçinreplace()metodusadecetekbir“e”harﬁnisildi. Buüçüncüparametreyi,silmekistediğinizharfsayısıkadarartırabilirsiniz.Mesela: "
   ]
  },
  {
   "cell_type": "code",
   "execution_count": null,
   "metadata": {},
   "outputs": [],
   "source": [
    ">>> kardiz.replace(\"e\", \"\", 2)\n",
    "'mmlket'\n",
    ">>> kardiz.replace(\"e\", \"\", 3)\n",
    "'mmlkt'"
   ]
  },
  {
   "cell_type": "markdown",
   "metadata": {},
   "source": [
    "Karakterdizilerikonusununilkbölümünde‘değiştirilebilirlik’(mutability)üzerinesöylediğimiz şeylerinburadadageçerliolduğunuunutmayın.Oradadasöylediğimizgibi,karakterdizileri değiştirilemeyenveritipleridir.Dolayısıylaeğerbirkarakterdizisiüzerindedeğişiklikyapmak istiyorsanız,okarakterdizisinibaştantanımlamalısınız.Örneğin"
   ]
  },
  {
   "cell_type": "code",
   "execution_count": null,
   "metadata": {},
   "outputs": [],
   "source": [
    " meyve = \"elma\" >>> \n",
    "    meyve = meyve.replace(\"e\", \"E\")\n",
    "    >>> meyve\n"
   ]
  },
  {
   "cell_type": "markdown",
   "metadata": {},
   "source": [
    "# split(),rsplit(),splitlines() "
   ]
  },
  {
   "cell_type": "markdown",
   "metadata": {},
   "source": [
    "Şimdisizeşöylebirsorusorduğumudüşünün:Acabaaşağıdakikarakterdizisindeyeralan bütünkelimelerinilkharﬁninasılalırız? "
   ]
  },
  {
   "cell_type": "code",
   "execution_count": null,
   "metadata": {},
   "outputs": [],
   "source": [
    "kardiz = \"İstanbul Büyükşehir Belediyesi\""
   ]
  },
  {
   "cell_type": "code",
   "execution_count": null,
   "metadata": {},
   "outputs": [],
   "source": [
    "print(kardiz[0], kardiz[9], kardiz[20], sep=\"\")\n"
   ]
  },
  {
   "cell_type": "code",
   "execution_count": null,
   "metadata": {},
   "outputs": [],
   "source": [
    "kardiz = \"İstanbul Büyükşehir Belediyesi\" \n",
    ">>> kardiz.split()\n"
   ]
  },
  {
   "cell_type": "markdown",
   "metadata": {},
   "source": [
    "Buradakullanıcıhangikurumadınıgirersegirsin, bukurumadınınherkelimesininilk harﬁekranadökülecektir. Örneğinkullanıcıburada“TürkiyeBüyükMilletMeclisi”ifadesini girmişsesplit()metoduönceliklebuifadeyialıpşuşekledönüştürür\n",
    "\n",
    "['Türkiye', 'Büyük', 'Millet', 'Meclisi'] "
   ]
  },
  {
   "cell_type": "markdown",
   "metadata": {},
   "source": [
    "rsplit() metodununpekyaygınkullanılanbirmetotolmadığınıbelirterek splitlines() metodunageçelim. Bildiğiniz gibi, split() metodunu bir karakter dizisini kelime kelime ayırabilmek için kullanabiliyoruz. splitlines() metodunuisebirkarakterdizisinisatırsatırayırmakiçin\n",
    " kullanabiliriz. Meselaelinizdeuzunbirmetinolduğunuveamacınızınbumetiniçindeki herbirsatırıayrıayrıalmakolduğunudüşünün.İştesplitlines()metoduylabuamacınızı gerçekleştirebilirsiniz.Hemenbirörnekverelim"
   ]
  },
  {
   "cell_type": "code",
   "execution_count": null,
   "metadata": {},
   "outputs": [],
   "source": [
    "metin = \"\"\"Python programlama dili Guido Van Rossum adlı Hollandalı bir programcı tarafından 90'lı yılların başında geliştirilmeye başlanmıştır. Çoğu insan, isminin Python olmasına bakarak, bu programlama dilinin, adını piton yılanından aldığını düşünür. Ancak zannedildiğinin aksine bu programlama dilinin adı piton yılanından gelmez. Guido Van Rossum bu programlama dilini, The Monty Python adlı bir İngiliz komedi grubunun, Monty Python's Flying Circus adlı gösterisinden esinlenerek adlandırmıştır. Ancak her ne kadar gerçek böyle olsa da, Python programlama dilinin pek çok yerde bir yılan figürü ile temsil edilmesi neredeyse bir gelenek halini almıştır diyebiliriz.\"\"\"\n",
    "print(metin.splitlines()) "
   ]
  },
  {
   "cell_type": "code",
   "execution_count": null,
   "metadata": {},
   "outputs": [],
   "source": [
    "print(metin.splitlines(True)) "
   ]
  },
  {
   "cell_type": "markdown",
   "metadata": {},
   "source": [
    "# lower() "
   ]
  },
  {
   "cell_type": "code",
   "execution_count": null,
   "metadata": {},
   "outputs": [],
   "source": [
    "kişi = input(\"Aradığınız kişinin adı ve soyadı: \") \n",
    "kişi = kişi.lower()\n",
    "if kişi == \"ahmet öz\": print(\"email: aoz@hmail.com\") \n",
    "    print(\"tel : 02121231212\")\n",
    "    print(\"şehir: istanbul\")\n",
    "elif kişi == \"mehmet söz\": \n",
    "    print(\"email: msoz@zmail.com\")\n",
    "    print(\"tel : 03121231212\") \n",
    "    print(\"şehir: ankara\")\n",
    "elif kişi == \"mahmut göz\":\n",
    "    print(\"email: mgoz@jmail.com\")\n",
    "    print(\"tel : 02161231212\") \n",
    "    print(\"şehir: istanbul\")\n",
    "else:\n",
    "    print(\"Aradığınız kişi veritabanında yok!\") \n",
    "    "
   ]
  },
  {
   "cell_type": "code",
   "execution_count": null,
   "metadata": {},
   "outputs": [],
   "source": [
    ">>> kardiz = \"ELMA\" >>> kardiz.lower()\n",
    "'elma'\n",
    ">>> kardiz = \"arMuT\" >>> kardiz.lower()\n",
    "'armut'\n",
    ">>> kardiz = \"PYTHON PROGRAMLAMA\" >>> kardiz.lower()\n"
   ]
  },
  {
   "cell_type": "markdown",
   "metadata": {},
   "source": [
    "İşteverdiğimizörnekprogramdada lower() metodununbuözelliğindenyararlandık. Bu metotsayesinde,kullanıcınetürbirkelimegirersegirsin,bukelimelerherhalükardaküçük harfeçevrileceğiiçin,ifbloklarıkullanıcıdangelenveriyiyakalayabilecektir"
   ]
  },
  {
   "cell_type": "markdown",
   "metadata": {},
   "source": [
    "# upper()"
   ]
  },
  {
   "cell_type": "markdown",
   "metadata": {},
   "source": [
    "Hatırlarsanız lower() metoduyardımıylakarakterdizileriiçindekiharﬂeriküçültüyorduk. upper()metoduisebuharﬂeribüyütmemizisağlar"
   ]
  },
  {
   "cell_type": "code",
   "execution_count": null,
   "metadata": {},
   "outputs": [],
   "source": [
    " kardiz = \"istanbul\" >>> kardiz.upper()\n",
    "'ISTANBUL' "
   ]
  },
  {
   "cell_type": "markdown",
   "metadata": {},
   "source": [
    "lower()metoduTürkçe’deki‘I’harﬁni‘i’şeklindeküçültüyordu.upper()metoduise‘i’harﬁni yanlışolarak‘I’şeklindebüyütüyor.Elbettebusorundaçözülemeyecekgibideğil.Buradada lower()metoduiçinuyguladığımızyönteminbirbenzeriniuygulayacağız"
   ]
  },
  {
   "cell_type": "code",
   "execution_count": null,
   "metadata": {},
   "outputs": [],
   "source": [
    "iller = \"istanbul, izmir, siirt, mersin\"\n",
    "iller = iller.replace(\"i\", \"İ\").upper() \n",
    "print(iller) "
   ]
  },
  {
   "cell_type": "markdown",
   "metadata": {},
   "source": [
    "# islower(),isupper()"
   ]
  },
  {
   "cell_type": "markdown",
   "metadata": {},
   "source": [
    "karıda öğrendiğimiz lower() ve upper() adlı metotlar karakter dizileri üzerinde bazı değişiklikleryapmamızayardımcıoluyor. Karakterdizileriüzerindebirtakımdeğişiklikler yapmamızısağlayanbutürmetotlara‘değiştiricimetotlar’adıverilir. Butürmetotların dışında bir de ‘sorgulayıcı metotlar’dan söz edebiliriz. Sorgulayıcı metotlar, değiştirici metotların aksine, bir karakter dizisi üzerinde değişiklik yapmamızı sağlamaz. Bu tür metotlarıngörevikarakterdizilerinindurumunusorgulamaktır.Sorgulayıcımetotlaraörnek olarakislower()veisupper()metotlarınıverebiliriz"
   ]
  },
  {
   "cell_type": "markdown",
   "metadata": {},
   "source": [
    " islower()metoduisebirkarakterdizisinintamamenküçükharﬂerdenoluşup oluşmadığınısorguluyor."
   ]
  },
  {
   "cell_type": "code",
   "execution_count": null,
   "metadata": {},
   "outputs": [],
   "source": [
    " kardiz = \"Ankara\" >>> kardiz.islower()\n"
   ]
  },
  {
   "cell_type": "code",
   "execution_count": null,
   "metadata": {},
   "outputs": [],
   "source": [
    "veri = input(\"mesajınız: \") böl = veri.split()\n",
    "for i in böl: \n",
    "    if i.isupper():\n",
    "        print(\"Tamamı büyük harflerden oluşan kelimeler kullanmayın!\")"
   ]
  },
  {
   "cell_type": "markdown",
   "metadata": {},
   "source": [
    "# endswith() "
   ]
  },
  {
   "cell_type": "markdown",
   "metadata": {},
   "source": [
    "endswith() metodukarakterdizileriüzerindeherhangibirdeğişiklikyapmamızı sağlamaz.Bumetodungörevikarakterdizisinindurumunusorgulamaktır"
   ]
  },
  {
   "cell_type": "code",
   "execution_count": null,
   "metadata": {},
   "outputs": [],
   "source": [
    " kardiz.endswith(\"z\")"
   ]
  },
  {
   "cell_type": "markdown",
   "metadata": {},
   "source": [
    "# startswith() "
   ]
  },
  {
   "cell_type": "markdown",
   "metadata": {},
   "source": [
    "Bumetot,birazöncegördüğümüz endswith() metodununyaptığıişintamtersiniyapar. Hatırlarsanız endswith() metodubirkarakterdizisininhangikarakterveyakarakterlerle bittiğinidenetliyordu. startswith()metoduisebirkarakterdizisininhangikarakterveya karakterlerlebaşladığınıdenetler"
   ]
  },
  {
   "cell_type": "code",
   "execution_count": null,
   "metadata": {},
   "outputs": [],
   "source": [
    " kardiz = \"python\" >>> kardiz.startswith(\"p\")\n",
    "True\n",
    ">>> kardiz.startswith(\"a\")"
   ]
  },
  {
   "cell_type": "markdown",
   "metadata": {},
   "source": [
    "# capitalize()"
   ]
  },
  {
   "cell_type": "markdown",
   "metadata": {},
   "source": [
    "imdigöreceğimiz capitalize() metoduda upper() ve lower() metotlarınabenzemekle birlikte onlardan biraz daha farklı davranır: capitalize() metodunun görevi karakter dizilerininyalnızcailkharﬁnibüyütmektir."
   ]
  },
  {
   "cell_type": "code",
   "execution_count": null,
   "metadata": {},
   "outputs": [],
   "source": [
    " a = \"python\"\n",
    "a.capitalize()\n"
   ]
  },
  {
   "cell_type": "markdown",
   "metadata": {},
   "source": [
    "# title() "
   ]
  },
  {
   "cell_type": "markdown",
   "metadata": {},
   "source": [
    "Bu metot biraz önce öğrendiğimiz capitalize() metoduna benzer. Bildiğiniz gibi capitalize()metodubirkarakterdizisininyalnızcailkharﬁnibüyütüyordu.title()metodu dakarakterdizilerininilkharﬁnibüyütür. Ama capitalize() metodundanfarklıolarak bumetot,birdenfazlakelimedenoluşankarakterdizilerininherkelimesininilkharﬂerini büyütür. "
   ]
  },
  {
   "cell_type": "code",
   "execution_count": null,
   "metadata": {},
   "outputs": [],
   "source": [
    " a.title()"
   ]
  },
  {
   "cell_type": "markdown",
   "metadata": {},
   "source": [
    "# swapcase() "
   ]
  },
  {
   "cell_type": "markdown",
   "metadata": {},
   "source": [
    "swapcase()metodudabüyük-küçükharﬂeilgilibirmetottur. Bumetotbirkarakterdizisi içindekibüyükharﬂeriküçükharfe;küçükharﬂeridebüyükharfedönüştürür"
   ]
  },
  {
   "cell_type": "code",
   "execution_count": null,
   "metadata": {},
   "outputs": [],
   "source": [
    ">>> kardiz = \"python\" \n",
    ">>> kardiz.swapcase()\n"
   ]
  },
  {
   "cell_type": "markdown",
   "metadata": {},
   "source": [
    "# casefold() "
   ]
  },
  {
   "cell_type": "markdown",
   "metadata": {},
   "source": [
    "Bumetotişlevolaraklower()metodunaçokbenzer. HattaTürkçeaçısından,bumetodun lower()metodundanhiçbirfarkıyoktur. Ancakbazıbaşkadillerde,bumetotbazıharﬂer içinlower()metodununverdiğindenfarklıbirçıktıverir. ÖrneğinAlmancadaki‘ß’harﬁbu durumabirörnekolabilir: "
   ]
  },
  {
   "cell_type": "code",
   "execution_count": null,
   "metadata": {},
   "outputs": [],
   "source": [
    " \"ß\".lower() 'ß'\n",
    ">>> \"ß\".casefold()\n",
    " "
   ]
  },
  {
   "cell_type": "markdown",
   "metadata": {},
   "source": [
    "Gördüğünüzgibi,lower()vecasefold()metotlarıbuharfefarklıdavranıyor. Türkçedekiİ-isorunubumetotiçindeaynengeçerlidir"
   ]
  },
  {
   "cell_type": "markdown",
   "metadata": {},
   "source": [
    "# join()"
   ]
  },
  {
   "cell_type": "markdown",
   "metadata": {},
   "source": [
    "Hatırlarsanızşimdiyekadaröğrendiğimizmetotlararasındasplit()adlıbirmetotvardı.Bu metodunneişeyaradığınıvenasılkullanıldığınıbiliyorsunuz: "
   ]
  },
  {
   "cell_type": "code",
   "execution_count": null,
   "metadata": {},
   "outputs": [],
   "source": [
    ">>> kardiz = \"Beşiktaş Jimnastik Kulübü\" \n",
    ">>> bölünmüş = kardiz.split() \n",
    ">>> print(bölünmüş)\n",
    "# ['Beşiktaş', 'Jimnastik', 'Kulübü']"
   ]
  },
  {
   "cell_type": "markdown",
   "metadata": {},
   "source": [
    "Gördüğünüzgibi split() metodubirkarakterdizisinibelliyerlerdenbölerekparçalara ayırıyor.Bunoktadainsanınaklınaşöylebirsorugeliyor:Diyelimkielimizdeböylebölünmüş birkarakterdizisigrubuvar.Bizbugrupiçindekikarakterdizilerinitekrarbirleştirmekistersek neyapacağız? Şimdişukodlaraçokdikkatlicebakın: "
   ]
  },
  {
   "cell_type": "code",
   "execution_count": null,
   "metadata": {},
   "outputs": [],
   "source": [
    "\" \".join(bölünmüş)"
   ]
  },
  {
   "cell_type": "markdown",
   "metadata": {},
   "source": [
    "# count() "
   ]
  },
  {
   "cell_type": "markdown",
   "metadata": {},
   "source": [
    "ıpkıdahaönceöğrendiğimizsorgulayıcımetotlargibi,count()metodudabirkarakterdizisi üzerindeherhangibirdeğişiklikyapmamızısağlamaz.Bumetodungörevibirkarakterdizisi içindebellibirkarakterinkaçkezgeçtiğinisorgulamaktır. Bununlailgilihemenbirörnek verelim: "
   ]
  },
  {
   "cell_type": "code",
   "execution_count": null,
   "metadata": {},
   "outputs": [],
   "source": [
    ">>> şehir = \"Kahramanmaraş\" >>> şehir.count(\"a\")"
   ]
  },
  {
   "cell_type": "markdown",
   "metadata": {},
   "source": [
    "# index(),rindex()"
   ]
  },
  {
   "cell_type": "markdown",
   "metadata": {},
   "source": [
    "Örneğin“python”adlıkarakterdizisinde ‘p’harﬁninsırası0‘dır.Aynışekilde‘n’harﬁninsırasıise5‘tir.Karakterlerin,birkarakterdizisi içindehangisıradabulunduğunuöğrenmekiçinindex()adlıbirmetottanyararlanabiliriz. Örneğin"
   ]
  },
  {
   "cell_type": "code",
   "execution_count": null,
   "metadata": {},
   "outputs": [],
   "source": [
    ">>> kardiz = \"python\" >>> kardiz.index(\"p\")\n",
    "0\n",
    ">>> kardiz.index(\"n\")\n"
   ]
  },
  {
   "cell_type": "markdown",
   "metadata": {},
   "source": [
    "Eğersırasınısorguladığımızkarakter,okarakterdizisiiçindebulunmuyorsa,budurumda Pythonbizebirhatamesajıgösterir: "
   ]
  },
  {
   "cell_type": "markdown",
   "metadata": {},
   "source": [
    "Hatırlarsanız, bundanönce count() adlıbirmetotöğrenmiştik. Ometotdatoplam3 parametrealıyordu. count()metodundakullandığımız2. ve3. parametreleringörevlerini hatırlıyorolmalısınız. İşte index() metodunun2. ve3. parametrelerideaynen count() metodundaki gibi çalışır. Yani Python’ın sorgulama işlemini hangi sıra aralıklarından gerçekleştireceğinigösterir.Meselayukarıdakiörnektebiz“adana”karakterdizisinin1.ve3. sıralarıarasındaki‘a’harﬂerinisorguladık.YaniyukarıdakiörnektePython‘a’harﬁniaramaya 1. konumdanbaşladıvearamayı3. konumdakesti. Böylece“adana”karakterdizisinin2. sırasındaki‘a’harﬁninkonumunubizebildirdi. Gördüğünüz gibi, index() metodu bize aradığımız karakterin yalnızca ilk konumunu bildiriyor. Pekibizmesela“adana” karakterdizisiiçindekibütün‘a’harﬂerininsırasını öğrenmekistersekneyapacağız? Buisteğimiziyerinegetirmekiçinkarakterdizisininherbirsırasınıtektekkontroletmemiz yeterliolacaktır.Yanişöylebirşeyyazmamızgerekiyor: "
   ]
  },
  {
   "cell_type": "code",
   "execution_count": null,
   "metadata": {},
   "outputs": [],
   "source": [
    "kardiz = \"adana\"\n",
    "print(kardiz.index(\"a\", 0))\n",
    "print(kardiz.index(\"a\", 1)) \n",
    "print(kardiz.index(\"a\", 2))\n",
    "print(kardiz.index(\"a\", 3)) \n",
    "print(kardiz.index(\"a\", 4)) "
   ]
  },
  {
   "cell_type": "markdown",
   "metadata": {},
   "source": [
    "# ﬁnd,rﬁnd() "
   ]
  },
  {
   "cell_type": "markdown",
   "metadata": {},
   "source": [
    "find() ve rfind() metotlarıtamamen index() ve rindex() metotlarınabenzer. find() ve rfind() metotlarınıngörevidebirkarakterdizisiiçindekibirkarakterinkonumunu sorgulamaktır: "
   ]
  },
  {
   "cell_type": "code",
   "execution_count": null,
   "metadata": {},
   "outputs": [],
   "source": [
    ">>> kardiz = \"adana\" >>> kardiz.find(\"a\")\n",
    "0\n",
    ">>> kardiz.rfind(\"a\")"
   ]
  },
  {
   "cell_type": "markdown",
   "metadata": {},
   "source": [
    "# center() "
   ]
  },
  {
   "cell_type": "markdown",
   "metadata": {},
   "source": [
    "Centerkelimesiİngilizce’de‘orta,merkez,ortalamak’gibianlamlaragelir.Buanlamauygun olarak,center()metodunukarakterdizileriniortalamakiçinkullanabilirsiniz"
   ]
  },
  {
   "cell_type": "code",
   "execution_count": null,
   "metadata": {},
   "outputs": [],
   "source": [
    "for metot in dir(\"\"): print(metot.center(15)) "
   ]
  },
  {
   "cell_type": "code",
   "execution_count": null,
   "metadata": {},
   "outputs": [],
   "source": [
    ">>> kardiz = \"python\" \n",
    "kardiz.center(10)"
   ]
  },
  {
   "cell_type": "markdown",
   "metadata": {},
   "source": [
    "# rjust(),ljust()"
   ]
  },
  {
   "cell_type": "markdown",
   "metadata": {},
   "source": [
    "Bumetotlardatıpkıbirönceki center() metodugibikarakterdizilerinihizalamavazifesi görür.rjust()metodubirkarakterdizisinisağayaslarken,ljust()metodukarakterdizisini solayaslar.Meselaşuikikodparçasınınçıktılarınıinceleyin: "
   ]
  },
  {
   "cell_type": "code",
   "execution_count": null,
   "metadata": {},
   "outputs": [],
   "source": [
    ">>> for i in dir(\"\"):\n",
    "    ... print(i.ljust(20))\n",
    ">>> for i in dir(\"\"):\n",
    "    ... print(i.rjust(20)) "
   ]
  },
  {
   "cell_type": "markdown",
   "metadata": {},
   "source": [
    "# zﬁll() "
   ]
  },
  {
   "cell_type": "markdown",
   "metadata": {},
   "source": [
    "Bumetotkimiyerlerdeişimiziepeykolaylaştırabilir. zfill() metoduyardımıylakarakter dizilerininsoltarafınaistediğimizsayıdasıfırekleyebiliriz: "
   ]
  },
  {
   "cell_type": "code",
   "execution_count": null,
   "metadata": {},
   "outputs": [],
   "source": [
    ">>> a = \"12\" \n",
    ">>> a.zfill(3)"
   ]
  },
  {
   "cell_type": "code",
   "execution_count": null,
   "metadata": {},
   "outputs": [],
   "source": []
  }
 ],
 "metadata": {
  "kernelspec": {
   "display_name": "Python 3",
   "language": "python",
   "name": "python3"
  },
  "language_info": {
   "codemirror_mode": {
    "name": "ipython",
    "version": 3
   },
   "file_extension": ".py",
   "mimetype": "text/x-python",
   "name": "python",
   "nbconvert_exporter": "python",
   "pygments_lexer": "ipython3",
   "version": "3.7.6"
  }
 },
 "nbformat": 4,
 "nbformat_minor": 4
}
